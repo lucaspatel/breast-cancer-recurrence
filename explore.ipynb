{
 "cells": [
  {
   "cell_type": "markdown",
   "metadata": {},
   "source": [
    "# CSE283 Final"
   ]
  },
  {
   "cell_type": "markdown",
   "metadata": {
    "tags": []
   },
   "source": [
    "#### **Generate Results**"
   ]
  },
  {
   "cell_type": "code",
   "execution_count": null,
   "metadata": {
    "tags": []
   },
   "outputs": [],
   "source": [
    "from scripts.hyperparameter_optimization import hyperoptimize_model\n",
    "label = \"cancer\"\n",
    "for model in [\"logreg\", \"randomforest\", \"xgboost\"]:\n",
    "    print(model, label)\n",
    "    print(\"\\t ENSG00000216184\")\n",
    "    hyperoptimize_model(label, model, features=\"cancer_1\")\n",
    "    print(\"\\t ENSG00000199165\")\n",
    "    hyperoptimize_model(label, model, features=\"cancer_2\")\n",
    "    print(\"\\t ENSG00000216184 and ENSG00000199165\")\n",
    "    hyperoptimize_model(label, model, features=\"cancer_12\")\n",
    "    print(\"\\t 20 PC\")\n",
    "    hyperoptimize_model(label, model, features=\"pc\")\n",
    "    print(\"\\t all genes\")\n",
    "    hyperoptimize_model(label, model, features=\"all\")\n",
    "    print(\"\\n\")"
   ]
  },
  {
   "cell_type": "code",
   "execution_count": null,
   "metadata": {},
   "outputs": [],
   "source": [
    "from scripts.hyperparameter_optimization import hyperoptimize_model\n",
    "label = \"recurrence\"\n",
    "for model in [\"logreg\", \"randomforest\", \"xgboost\"]:\n",
    "    print(model, label)\n",
    "    print(\"\\t PCA on recurrence related genes\")\n",
    "    hyperoptimize_model(label, model, features=\"recurrence_pc\")\n",
    "    print(\"\\t 20 PC\")\n",
    "    hyperoptimize_model(label, model, features=\"pc\")\n",
    "    print(\"\\t all genes\")\n",
    "    hyperoptimize_model(label, model, features=\"all\")\n",
    "    print(\"\\n\")"
   ]
  },
  {
   "cell_type": "markdown",
   "metadata": {
    "tags": []
   },
   "source": [
    "#### **Make Figures**"
   ]
  },
  {
   "cell_type": "code",
   "execution_count": null,
   "metadata": {},
   "outputs": [],
   "source": [
    "import pandas as pd\n",
    "import matplotlib.pyplot as plt\n",
    "import os\n",
    "import numpy as np\n",
    "import pandas as pd\n",
    "from sklearn.metrics import roc_auc_score, roc_curve, auc, average_precision_score, precision_recall_curve, RocCurveDisplay, PrecisionRecallDisplay\n",
    "import seaborn as sns\n",
    "\n",
    "results_folder = \"results\"\n",
    "models = [\"logreg\", \"randomforest\", \"xgboost\"]\n",
    "labels = [\"cancer\", \"recurrence\"]\n",
    "model_name = {\"randomforest\": \"Random Forest\",\n",
    "              \"logreg\": \"Logistic Regression\",\n",
    "              \"xgboost\": \"XGBoost\",\n",
    "             }\n",
    "cancer_features_set = [\"all\", \"cancer_1\", \"cancer_12\", \"pc\"]\n",
    "recurrence_features_set = [\"all\", \"recurrence_pc\", \"pc\"]"
   ]
  },
  {
   "cell_type": "markdown",
   "metadata": {
    "tags": []
   },
   "source": [
    "##### **Violin plot for Cancer**"
   ]
  },
  {
   "cell_type": "code",
   "execution_count": null,
   "metadata": {},
   "outputs": [],
   "source": [
    "def make_violin_plot(results_folder, model, label, features):\n",
    "    plt.figure()\n",
    "    for k in range(5):\n",
    "        te = pd.read_csv(os.path.join(results_folder, f\"{model}-{label}-{features}\", str(k), f\"test-predictions.csv\"))\n",
    "        va = pd.read_csv(os.path.join(results_folder, f\"{model}-{label}-{features}\", str(k), f\"valid-predictions.csv\"))\n",
    "        if k == 0:\n",
    "            val_preds = va[[\"y_pred\"]]\n",
    "        else:\n",
    "            val_preds[\"y_pred\"] += va[\"y_pred\"]\n",
    "    val_preds[\"y_pred\"] /= 5     \n",
    "    val_preds[\"y_true\"] = 2\n",
    "    df = te[[\"y_true\", \"y_pred\"]].append(val_preds)\n",
    "\n",
    "    sns.violinplot(x=df[\"y_true\"], y=df[\"y_pred\"], hue=df[\"y_true\"], palette=\"Blues\", legend=False, cut=0)\n",
    "    plt.xticks([0,1,2], [f\"Non {label.capitalize()} Test\", f\"{label.capitalize()} Test\", f\"{label.capitalize()} Valid\"])\n",
    "    plt.ylabel(\"Probability [u]\")\n",
    "    plt.xlabel(\"Split\")\n",
    "    if features == \"cancer_1\":\n",
    "        l = \"just \\n AC048346.1 exRNA\"\n",
    "    elif features == \"cancer_12\":\n",
    "        l = \"just \\n AC048346.1 exRNA and MIRNLET7A1\"\n",
    "    elif features == \"pc\":\n",
    "        l = \"20 main PC\"\n",
    "    else:\n",
    "        l = \"all genes\"\n",
    "    plt.title(f\"{model_name[model]} using \" + l + \"\\n Validation Dataset\")\n",
    "    plt.savefig(os.path.join(results_folder, f\"{model}-{label}-{features}\", f\"violin.png\"), bbox_inches='tight')\n",
    "    plt.close()"
   ]
  },
  {
   "cell_type": "code",
   "execution_count": null,
   "metadata": {
    "tags": []
   },
   "outputs": [],
   "source": [
    "label = \"cancer\"\n",
    "for model in models:\n",
    "    for features in cancer_features_set:\n",
    "        if model == \"xgboost\" and features == \"all\":\n",
    "            continue\n",
    "        make_violin_plot(results_folder, model, label, features)"
   ]
  },
  {
   "cell_type": "markdown",
   "metadata": {},
   "source": [
    "##### **ROC and PR Curves**"
   ]
  },
  {
   "cell_type": "code",
   "execution_count": null,
   "metadata": {},
   "outputs": [],
   "source": [
    "mean_fpr = np.linspace(0, 1, 100)\n",
    "mean_recall = np.linspace(0, 1, 100)\n",
    "RECALL_LABEL = \"Recall | True Positive Rate | TP/(TP+FN)\"\n",
    "SENSITIVITY_LABEL = \"Sensitivity | True Positive Rate | TP/(TP+FN)\"\n",
    "FALLOUT_LABEL = \"1 - Specificity | False Positive Rate | FP/(FP+TN)\"\n",
    "PRECISION_LABEL = \"Precision | Positive Predictive Value | TP/(TP+FP)\"\n",
    "\n",
    "def make_curves(results_folder, model, label, split):\n",
    "    if label == \"cancer\":\n",
    "        features_set = cancer_features_set\n",
    "    else:\n",
    "        features_set = recurrence_features_set\n",
    "    # Create ROC Curve Structure\n",
    "    fig_roc, ax_roc = plt.subplots()\n",
    "    ax_roc.plot(\n",
    "        [0, 1],\n",
    "        [0, 1],\n",
    "        linestyle=\"--\",\n",
    "        lw=2,\n",
    "        color=\"gray\",\n",
    "        alpha=0.8,\n",
    "    )  # , label='Chance')\n",
    "    ax_roc.set(xlim=[-0.05, 1.05], ylim=[-0.05, 1.05])\n",
    "    if split == \"valid\":\n",
    "        ax_roc.set_title(f\"Receiver operating characteristic curve \\n\"\n",
    "            f\"{model_name[model]} Validation Dataset\")\n",
    "    else:\n",
    "        ax_roc.set_title(f\"Receiver operating characteristic curve \\n\"\n",
    "            f\"{model_name[model]} {split.capitalize()} Dataset\")\n",
    "    plt.ylabel(SENSITIVITY_LABEL)\n",
    "    plt.xlabel(FALLOUT_LABEL)\n",
    "\n",
    "    # Create PR Curve Structure\n",
    "    fig_pr, ax_pr = plt.subplots()\n",
    "    f_scores = np.linspace(0.2, 0.8, num=4)\n",
    "    for f_score in f_scores:\n",
    "        x = np.linspace(0.01, 1)\n",
    "        y = f_score * x / (2 * x - f_score)\n",
    "        ax_pr.plot(x[y >= 0], y[y >= 0], color=\"gray\", alpha=0.2)\n",
    "    ax_pr.set(xlim=[-0.05, 1.05], ylim=[-0.05, 1.05])\n",
    "    if split == \"valid\":\n",
    "        ax_pr.set_title(f\"Precision-Recall curve \\n\"\n",
    "            f\"{model_name[model]} Validation Dataset\")\n",
    "    else:\n",
    "        ax_pr.set_title(f\"Precision-Recall curve \\n\"\n",
    "            f\"{model_name[model]} {split.capitalize()} Dataset\")\n",
    "    plt.ylabel(PRECISION_LABEL)\n",
    "    plt.xlabel(RECALL_LABEL)\n",
    "\n",
    "    for features in features_set:\n",
    "        if model == \"xgboost\" and features == \"all\":\n",
    "            continue\n",
    "        if features == \"cancer_1\":\n",
    "            l = \"AC048346.1\"\n",
    "        elif features == \"cancer_12\":\n",
    "            l = \"AC048346.1 and MIRNLET7A1\"\n",
    "        elif features == \"recurrence_pc\":\n",
    "            l = \"20 PC on Recurrence RG\"    \n",
    "        elif features == \"pc\":\n",
    "            l = \"20 main PC\"\n",
    "        else:\n",
    "            l = \"All genes\"  \n",
    "        tprs = []\n",
    "        precisions = []\n",
    "        aurocs = []\n",
    "        auprcs = []\n",
    "        for k in range(5):\n",
    "            predictions = pd.read_csv(os.path.join(results_folder, f\"{model}-{label}-{features}\", f\"{k}\", f\"{split}-predictions.csv\"))\n",
    "            y_truth = np.array(predictions[\"y_true\"])\n",
    "            y_pred = np.array(predictions[\"y_pred\"])\n",
    "\n",
    "            fpr, tpr, thresholds = roc_curve(y_truth, y_pred)\n",
    "            precision, recall, _ = precision_recall_curve(y_truth, y_pred)\n",
    "\n",
    "            roc_auc = auc(fpr, tpr)\n",
    "            viz = RocCurveDisplay(\n",
    "                fpr=fpr,\n",
    "                tpr=tpr,\n",
    "                roc_auc=roc_auc,\n",
    "                estimator_name=None,\n",
    "            )\n",
    "            interp_tpr = np.interp(mean_fpr, viz.fpr, viz.tpr)\n",
    "            auroc = viz.roc_auc\n",
    "            interp_tpr[0] = 0.0\n",
    "\n",
    "            average_precision = average_precision_score(y_truth, y_pred)\n",
    "            viz = PrecisionRecallDisplay(\n",
    "                precision=precision,\n",
    "                recall=recall,\n",
    "                average_precision=average_precision,\n",
    "                estimator_name=None,\n",
    "            )\n",
    "            interp_precision = np.interp(mean_recall, viz.recall[::-1], viz.precision[::-1])\n",
    "            aupr = auc(mean_recall, interp_precision)\n",
    "\n",
    "            tprs.append(interp_tpr)\n",
    "            aurocs.append(auroc)\n",
    "            precisions.append(interp_precision)\n",
    "            auprcs.append(aupr)\n",
    "        # Plot ROC curve\n",
    "        mean_tpr = np.mean(tprs, axis=0)\n",
    "        # mean_tpr[-1] = 1.0\n",
    "        mean_auroc = np.mean(aurocs)\n",
    "        std_auroc = np.std(aurocs)\n",
    "        ax_roc.plot(\n",
    "            mean_fpr,\n",
    "            mean_tpr,\n",
    "            # color=color,\n",
    "            label=fr\"{l} (AuROC = %0.3f $\\pm$ %0.3f)\" % (mean_auroc, std_auroc),\n",
    "            lw=1,\n",
    "            alpha=0.8,\n",
    "        )\n",
    "        std_tpr = np.std(tprs, axis=0)\n",
    "        tprs_upper = np.minimum(mean_tpr + std_tpr, 1)\n",
    "        tprs_lower = np.maximum(mean_tpr - std_tpr, 0)\n",
    "        ax_roc.fill_between(\n",
    "            mean_fpr,\n",
    "            tprs_lower,\n",
    "            tprs_upper,\n",
    "            #color=color,\n",
    "            alpha=0.2,\n",
    "        )\n",
    "        ax_roc.legend(loc=\"lower right\")\n",
    "        plt.sca(ax_roc)\n",
    "        plt.savefig(os.path.join(results_folder, f\"{model}-{label}-{split}-roc.png\"), bbox_inches='tight')\n",
    "        plt.close()\n",
    "        \n",
    "        # Plot PR curve\n",
    "        mean_precision = np.mean(precisions, axis=0)\n",
    "        mean_precision[0] = 1.0\n",
    "        mean_precision[-1] = 0\n",
    "        mean_auprc = np.mean(auprcs)\n",
    "        std_auprc = np.std(auprcs)\n",
    "        ax_pr.plot(\n",
    "            mean_recall,\n",
    "            mean_precision,\n",
    "            # color=color,\n",
    "            label=fr\"{l} (AuPRC = %0.3f $\\pm$ %0.3f)\" % (mean_auprc, std_auprc),\n",
    "            lw=1,\n",
    "            alpha=0.8,\n",
    "        )\n",
    "        std_precision = np.std(precisions, axis=0)\n",
    "        precision_upper = np.minimum(mean_precision + std_precision, 1)\n",
    "        precision_lower = np.maximum(mean_precision - std_precision, 0)\n",
    "        ax_pr.fill_between(\n",
    "            mean_recall,\n",
    "            precision_lower,\n",
    "            precision_upper,\n",
    "            # color=color,\n",
    "            alpha=0.2,\n",
    "        )\n",
    "        if label == \"cancer\":\n",
    "            ax_pr.legend(loc=\"lower left\")\n",
    "        else:\n",
    "            ax_pr.legend(loc=\"upper right\")\n",
    "        plt.sca(ax_pr)\n",
    "        plt.savefig(os.path.join(results_folder, f\"{model}-{label}-{split}-pr.png\"), bbox_inches='tight')\n",
    "        plt.close()"
   ]
  },
  {
   "cell_type": "code",
   "execution_count": null,
   "metadata": {
    "tags": []
   },
   "outputs": [],
   "source": [
    "for label in [\"cancer\", \"recurrence\"]:\n",
    "    for split in [\"test\", \"valid\"]:\n",
    "        for model in models:\n",
    "            make_curves(results_folder, model, label, split)        "
   ]
  },
  {
   "cell_type": "code",
   "execution_count": null,
   "metadata": {},
   "outputs": [],
   "source": []
  }
 ],
 "metadata": {
  "kernelspec": {
   "display_name": "Python 3 (ipykernel)",
   "language": "python",
   "name": "python3"
  },
  "language_info": {
   "codemirror_mode": {
    "name": "ipython",
    "version": 3
   },
   "file_extension": ".py",
   "mimetype": "text/x-python",
   "name": "python",
   "nbconvert_exporter": "python",
   "pygments_lexer": "ipython3",
   "version": "3.9.13"
  }
 },
 "nbformat": 4,
 "nbformat_minor": 4
}
